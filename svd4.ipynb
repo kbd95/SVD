{
 "cells": [
  {
   "cell_type": "code",
   "execution_count": 2,
   "metadata": {},
   "outputs": [],
   "source": [
    "import numpy as np\n",
    "import pandas as pd\n",
    "import pandas as mpl\n",
    "import matplotlib.pyplot as plt\n",
    "import seaborn as sns\n",
    "import scipy as py\n",
    "%matplotlib inline"
   ]
  },
  {
   "cell_type": "code",
   "execution_count": 3,
   "metadata": {},
   "outputs": [
    {
     "data": {
      "text/html": [
       "<div>\n",
       "<style scoped>\n",
       "    .dataframe tbody tr th:only-of-type {\n",
       "        vertical-align: middle;\n",
       "    }\n",
       "\n",
       "    .dataframe tbody tr th {\n",
       "        vertical-align: top;\n",
       "    }\n",
       "\n",
       "    .dataframe thead th {\n",
       "        text-align: right;\n",
       "    }\n",
       "</style>\n",
       "<table border=\"1\" class=\"dataframe\">\n",
       "  <thead>\n",
       "    <tr style=\"text-align: right;\">\n",
       "      <th></th>\n",
       "      <th>RI</th>\n",
       "      <th>Na</th>\n",
       "      <th>Mg</th>\n",
       "      <th>Al</th>\n",
       "      <th>Si</th>\n",
       "      <th>K</th>\n",
       "      <th>Ca</th>\n",
       "      <th>Ba</th>\n",
       "      <th>Fe</th>\n",
       "      <th>Type</th>\n",
       "    </tr>\n",
       "  </thead>\n",
       "  <tbody>\n",
       "    <tr>\n",
       "      <th>0</th>\n",
       "      <td>1.52101</td>\n",
       "      <td>13.64</td>\n",
       "      <td>4.49</td>\n",
       "      <td>1.10</td>\n",
       "      <td>71.78</td>\n",
       "      <td>0.06</td>\n",
       "      <td>8.75</td>\n",
       "      <td>0.0</td>\n",
       "      <td>0.0</td>\n",
       "      <td>1</td>\n",
       "    </tr>\n",
       "    <tr>\n",
       "      <th>1</th>\n",
       "      <td>1.51761</td>\n",
       "      <td>13.89</td>\n",
       "      <td>3.60</td>\n",
       "      <td>1.36</td>\n",
       "      <td>72.73</td>\n",
       "      <td>0.48</td>\n",
       "      <td>7.83</td>\n",
       "      <td>0.0</td>\n",
       "      <td>0.0</td>\n",
       "      <td>1</td>\n",
       "    </tr>\n",
       "    <tr>\n",
       "      <th>2</th>\n",
       "      <td>1.51618</td>\n",
       "      <td>13.53</td>\n",
       "      <td>3.55</td>\n",
       "      <td>1.54</td>\n",
       "      <td>72.99</td>\n",
       "      <td>0.39</td>\n",
       "      <td>7.78</td>\n",
       "      <td>0.0</td>\n",
       "      <td>0.0</td>\n",
       "      <td>1</td>\n",
       "    </tr>\n",
       "    <tr>\n",
       "      <th>3</th>\n",
       "      <td>1.51766</td>\n",
       "      <td>13.21</td>\n",
       "      <td>3.69</td>\n",
       "      <td>1.29</td>\n",
       "      <td>72.61</td>\n",
       "      <td>0.57</td>\n",
       "      <td>8.22</td>\n",
       "      <td>0.0</td>\n",
       "      <td>0.0</td>\n",
       "      <td>1</td>\n",
       "    </tr>\n",
       "    <tr>\n",
       "      <th>4</th>\n",
       "      <td>1.51742</td>\n",
       "      <td>13.27</td>\n",
       "      <td>3.62</td>\n",
       "      <td>1.24</td>\n",
       "      <td>73.08</td>\n",
       "      <td>0.55</td>\n",
       "      <td>8.07</td>\n",
       "      <td>0.0</td>\n",
       "      <td>0.0</td>\n",
       "      <td>1</td>\n",
       "    </tr>\n",
       "  </tbody>\n",
       "</table>\n",
       "</div>"
      ],
      "text/plain": [
       "        RI     Na    Mg    Al     Si     K    Ca   Ba   Fe  Type\n",
       "0  1.52101  13.64  4.49  1.10  71.78  0.06  8.75  0.0  0.0     1\n",
       "1  1.51761  13.89  3.60  1.36  72.73  0.48  7.83  0.0  0.0     1\n",
       "2  1.51618  13.53  3.55  1.54  72.99  0.39  7.78  0.0  0.0     1\n",
       "3  1.51766  13.21  3.69  1.29  72.61  0.57  8.22  0.0  0.0     1\n",
       "4  1.51742  13.27  3.62  1.24  73.08  0.55  8.07  0.0  0.0     1"
      ]
     },
     "execution_count": 3,
     "metadata": {},
     "output_type": "execute_result"
    }
   ],
   "source": [
    "df=pd.read_csv(\"/home/ritesh/Desktop/dataset/glass.csv\")\n",
    "df.head()"
   ]
  },
  {
   "cell_type": "code",
   "execution_count": 4,
   "metadata": {},
   "outputs": [],
   "source": [
    "A=np.asmatrix(df)"
   ]
  },
  {
   "cell_type": "code",
   "execution_count": 5,
   "metadata": {},
   "outputs": [
    {
     "data": {
      "text/plain": [
       "matrix([[4.93364744e+02, 4.35651418e+03, 8.72171666e+02, 4.69362224e+02,\n",
       "         2.36062111e+04, 1.61386258e+02, 2.91113369e+03, 5.68778445e+01,\n",
       "         1.85330718e+01, 9.03203930e+02],\n",
       "        [4.35651418e+03, 3.86129144e+04, 7.63400010e+03, 4.15945760e+03,\n",
       "         2.08446469e+05, 1.39600820e+03, 2.56318511e+04, 5.30504200e+02,\n",
       "         1.59485400e+02, 8.16169000e+03],\n",
       "        [8.72171666e+02, 7.63400010e+03, 1.98539230e+03, 7.56180300e+02,\n",
       "         4.16977505e+04, 2.86634900e+02, 4.95166040e+03, 2.53636000e+01,\n",
       "         3.52378000e+01, 1.11578000e+03],\n",
       "        [4.69362224e+02, 4.15945760e+03, 7.56180300e+02, 4.99874100e+02,\n",
       "         2.24639405e+04, 1.76302200e+02, 2.73029460e+03, 7.94754000e+01,\n",
       "         1.68569000e+01, 9.93690000e+02],\n",
       "        [2.36062111e+04, 2.08446469e+05, 4.16977505e+04, 2.24639405e+04,\n",
       "         1.12965366e+06, 7.70707800e+03, 1.39207577e+05, 2.71312450e+03,\n",
       "         8.84827100e+02, 4.32799100e+04],\n",
       "        [1.61386258e+02, 1.39600820e+03, 2.86634900e+02, 1.76302200e+02,\n",
       "         7.70707800e+03, 1.43472300e+02, 8.89915900e+02, 1.56760000e+01,\n",
       "         5.95960000e+00, 2.92810000e+02],\n",
       "        [2.91113369e+03, 2.56318511e+04, 4.95166040e+03, 2.73029460e+03,\n",
       "         1.39207577e+05, 8.89915900e+02, 1.76000193e+04, 3.18520100e+02,\n",
       "         1.12966100e+02, 5.33000000e+03],\n",
       "        [5.68778445e+01, 5.30504200e+02, 2.53636000e+01, 7.94754000e+01,\n",
       "         2.71312450e+03, 1.56760000e+01, 3.18520100e+02, 5.92166000e+01,\n",
       "         1.52990000e+00, 2.32300000e+02],\n",
       "        [1.85330718e+01, 1.59485400e+02, 3.52378000e+01, 1.68569000e+01,\n",
       "         8.84827100e+02, 5.95960000e+00, 1.12966100e+02, 1.52990000e+00,\n",
       "         2.71780000e+00, 2.57000000e+01],\n",
       "        [9.03203930e+02, 8.16169000e+03, 1.11578000e+03, 9.93690000e+02,\n",
       "         4.32799100e+04, 2.92810000e+02, 5.33000000e+03, 2.32300000e+02,\n",
       "         2.57000000e+01, 2.59700000e+03]])"
      ]
     },
     "execution_count": 5,
     "metadata": {},
     "output_type": "execute_result"
    }
   ],
   "source": [
    "A_trans_A=np.matmul(A.T,A)\n",
    "A_trans_A"
   ]
  },
  {
   "cell_type": "code",
   "execution_count": 6,
   "metadata": {},
   "outputs": [],
   "source": [
    "eig_value,eig_vect=np.linalg.eig(A_trans_A)"
   ]
  },
  {
   "cell_type": "code",
   "execution_count": 7,
   "metadata": {},
   "outputs": [
    {
     "data": {
      "text/plain": [
       "array([1.18947777e+06, 1.30411672e+03, 5.35878877e+02, 1.43116188e+02,\n",
       "       8.13396356e+01, 5.20674594e+01, 3.08194576e+01, 2.06617739e+01,\n",
       "       6.78987435e-04, 1.86316682e+00])"
      ]
     },
     "execution_count": 7,
     "metadata": {},
     "output_type": "execute_result"
    }
   ],
   "source": [
    "eig_value"
   ]
  },
  {
   "cell_type": "code",
   "execution_count": 8,
   "metadata": {},
   "outputs": [
    {
     "data": {
      "text/plain": [
       "array([0, 1, 2, 3, 4, 5, 6, 7, 9, 8])"
      ]
     },
     "execution_count": 8,
     "metadata": {},
     "output_type": "execute_result"
    }
   ],
   "source": [
    "index = eig_value.argsort()[::-1]\n",
    "index"
   ]
  },
  {
   "cell_type": "code",
   "execution_count": 9,
   "metadata": {},
   "outputs": [
    {
     "data": {
      "text/plain": [
       "array([1.18947777e+06, 1.30411672e+03, 5.35878877e+02, 1.43116188e+02,\n",
       "       8.13396356e+01, 5.20674594e+01, 3.08194576e+01, 2.06617739e+01,\n",
       "       1.86316682e+00, 6.78987435e-04])"
      ]
     },
     "execution_count": 9,
     "metadata": {},
     "output_type": "execute_result"
    }
   ],
   "source": [
    "Eig_value=eig_value[index]\n",
    "Eig_value"
   ]
  },
  {
   "cell_type": "code",
   "execution_count": 10,
   "metadata": {},
   "outputs": [
    {
     "data": {
      "text/plain": [
       "array([1.09063182e+03, 3.61125563e+01, 2.31490578e+01, 1.19631178e+01,\n",
       "       9.01884891e+00, 7.21577850e+00, 5.55152750e+00, 4.54552240e+00,\n",
       "       1.36497869e+00, 2.60573873e-02])"
      ]
     },
     "execution_count": 10,
     "metadata": {},
     "output_type": "execute_result"
    }
   ],
   "source": [
    "#singular Values\n",
    "\n",
    "Sg_val=np.sqrt(Eig_value)\n",
    "Sg_val\n"
   ]
  },
  {
   "cell_type": "code",
   "execution_count": 11,
   "metadata": {},
   "outputs": [
    {
     "data": {
      "text/plain": [
       "matrix([[1.09063182e+03, 0.00000000e+00, 0.00000000e+00, 0.00000000e+00,\n",
       "         0.00000000e+00, 0.00000000e+00, 0.00000000e+00, 0.00000000e+00,\n",
       "         0.00000000e+00, 0.00000000e+00],\n",
       "        [0.00000000e+00, 3.61125563e+01, 0.00000000e+00, 0.00000000e+00,\n",
       "         0.00000000e+00, 0.00000000e+00, 0.00000000e+00, 0.00000000e+00,\n",
       "         0.00000000e+00, 0.00000000e+00],\n",
       "        [0.00000000e+00, 0.00000000e+00, 2.31490578e+01, 0.00000000e+00,\n",
       "         0.00000000e+00, 0.00000000e+00, 0.00000000e+00, 0.00000000e+00,\n",
       "         0.00000000e+00, 0.00000000e+00],\n",
       "        [0.00000000e+00, 0.00000000e+00, 0.00000000e+00, 1.19631178e+01,\n",
       "         0.00000000e+00, 0.00000000e+00, 0.00000000e+00, 0.00000000e+00,\n",
       "         0.00000000e+00, 0.00000000e+00],\n",
       "        [0.00000000e+00, 0.00000000e+00, 0.00000000e+00, 0.00000000e+00,\n",
       "         9.01884891e+00, 0.00000000e+00, 0.00000000e+00, 0.00000000e+00,\n",
       "         0.00000000e+00, 0.00000000e+00],\n",
       "        [0.00000000e+00, 0.00000000e+00, 0.00000000e+00, 0.00000000e+00,\n",
       "         0.00000000e+00, 7.21577850e+00, 0.00000000e+00, 0.00000000e+00,\n",
       "         0.00000000e+00, 0.00000000e+00],\n",
       "        [0.00000000e+00, 0.00000000e+00, 0.00000000e+00, 0.00000000e+00,\n",
       "         0.00000000e+00, 0.00000000e+00, 5.55152750e+00, 0.00000000e+00,\n",
       "         0.00000000e+00, 0.00000000e+00],\n",
       "        [0.00000000e+00, 0.00000000e+00, 0.00000000e+00, 0.00000000e+00,\n",
       "         0.00000000e+00, 0.00000000e+00, 0.00000000e+00, 4.54552240e+00,\n",
       "         0.00000000e+00, 0.00000000e+00],\n",
       "        [0.00000000e+00, 0.00000000e+00, 0.00000000e+00, 0.00000000e+00,\n",
       "         0.00000000e+00, 0.00000000e+00, 0.00000000e+00, 0.00000000e+00,\n",
       "         1.36497869e+00, 0.00000000e+00],\n",
       "        [0.00000000e+00, 0.00000000e+00, 0.00000000e+00, 0.00000000e+00,\n",
       "         0.00000000e+00, 0.00000000e+00, 0.00000000e+00, 0.00000000e+00,\n",
       "         0.00000000e+00, 2.60573873e-02]])"
      ]
     },
     "execution_count": 11,
     "metadata": {},
     "output_type": "execute_result"
    }
   ],
   "source": [
    "#Diagnol Matrix\n",
    "\n",
    "S=np.asmatrix(np.diag(Sg_val))\n",
    "S"
   ]
  },
  {
   "cell_type": "code",
   "execution_count": 12,
   "metadata": {},
   "outputs": [
    {
     "data": {
      "text/plain": [
       "(10, 10)"
      ]
     },
     "execution_count": 12,
     "metadata": {},
     "output_type": "execute_result"
    }
   ],
   "source": [
    "#Inverse of diagnal matrix\n",
    "\n",
    "S_inv=np.linalg.inv(S)\n",
    "S_inv.shape"
   ]
  },
  {
   "cell_type": "code",
   "execution_count": 13,
   "metadata": {
    "scrolled": true
   },
   "outputs": [
    {
     "data": {
      "text/plain": [
       "matrix([[-2.03648013e-02, -1.95163480e-03,  2.21963152e-03,\n",
       "         -1.97638691e-03,  3.47257439e-04,  1.88220222e-02,\n",
       "         -3.13681456e-02, -5.99051621e-03, -5.40346537e-03,\n",
       "          9.99084181e-01],\n",
       "        [-1.79842616e-01,  1.42088571e-01, -1.96069520e-01,\n",
       "         -6.50942633e-01,  5.47704705e-01,  4.12220514e-01,\n",
       "         -8.33175509e-02, -8.93045765e-02, -1.53773806e-02,\n",
       "         -1.54312057e-02],\n",
       "        [-3.59407043e-02, -5.13803790e-01, -3.19755368e-01,\n",
       "         -2.95969672e-01, -6.11537433e-01,  2.79913698e-01,\n",
       "         -2.96407592e-01, -6.61036210e-02,  6.97346768e-03,\n",
       "         -1.63371073e-02],\n",
       "        [-1.93804486e-02,  1.17897737e-01, -1.01096788e-01,\n",
       "          2.50286030e-01,  7.24565781e-02, -6.03432021e-02,\n",
       "         -3.51111460e-01, -8.83228507e-01,  1.96505741e-02,\n",
       "         -1.45467571e-02],\n",
       "        [-9.74524550e-01, -5.15971906e-02, -4.86564661e-02,\n",
       "          1.44412605e-01, -3.85594706e-02, -1.29727912e-01,\n",
       "          6.45925404e-02,  4.12969498e-02,  1.87336508e-03,\n",
       "         -1.48280703e-02],\n",
       "        [-6.63958644e-03, -8.14970115e-03, -1.12367524e-01,\n",
       "          6.11580185e-01,  1.54505498e-01,  7.19965098e-01,\n",
       "         -1.59952247e-01,  2.12517782e-01, -2.07637404e-03,\n",
       "         -1.60680870e-02],\n",
       "        [-1.20120929e-01,  8.28428429e-02,  8.80428271e-01,\n",
       "         -1.58398678e-01, -1.95317109e-01,  2.83976286e-01,\n",
       "         -2.31583532e-01, -7.47761287e-02,  1.20105618e-02,\n",
       "         -1.74924407e-02],\n",
       "        [-2.34574568e-03,  1.19794982e-01, -5.87935441e-02,\n",
       "         -1.16541547e-05,  1.38387712e-01, -3.38219942e-01,\n",
       "         -8.34301359e-01,  3.89651207e-01,  2.15365146e-02,\n",
       "         -1.71011349e-02],\n",
       "        [-7.62951699e-04, -6.52686085e-03,  1.01238098e-02,\n",
       "          1.05957598e-02, -7.13073409e-03, -1.23466859e-02,\n",
       "         -2.80434646e-02, -9.73609307e-03, -9.99309693e-01,\n",
       "         -6.13829201e-03],\n",
       "        [-3.73800491e-02,  8.23363684e-01, -2.35331121e-01,\n",
       "         -7.70772566e-02, -4.87936355e-01,  1.31758209e-01,\n",
       "          2.65417394e-02,  5.60620361e-02, -7.98788191e-03,\n",
       "          3.04367529e-05]])"
      ]
     },
     "execution_count": 13,
     "metadata": {},
     "output_type": "execute_result"
    }
   ],
   "source": [
    "V =eig_vect[:,index]\n",
    "V"
   ]
  },
  {
   "cell_type": "code",
   "execution_count": null,
   "metadata": {},
   "outputs": [],
   "source": []
  },
  {
   "cell_type": "code",
   "execution_count": 14,
   "metadata": {},
   "outputs": [],
   "source": [
    "#compute U=AVS_inv\n",
    "U=A.dot(V).dot(S_inv)"
   ]
  },
  {
   "cell_type": "code",
   "execution_count": 15,
   "metadata": {},
   "outputs": [
    {
     "data": {
      "text/plain": [
       "matrix([[-0.06758186, -0.0664054 , -0.01074805, ..., -0.02568806,\n",
       "          0.04865307,  0.05483856],\n",
       "        [-0.06834841, -0.05547258, -0.04073371, ..., -0.02477053,\n",
       "          0.03761604,  0.00728825],\n",
       "        [-0.06851683, -0.05605579, -0.03979142, ..., -0.05296714,\n",
       "          0.04406701,  0.03762262],\n",
       "        ...,\n",
       "        [-0.06920904,  0.14251317, -0.03895109, ...,  0.0784792 ,\n",
       "          0.02122708,  0.1586833 ],\n",
       "        [-0.06938486,  0.14191899, -0.03747175, ...,  0.08870394,\n",
       "          0.01937473, -0.05626701],\n",
       "        [-0.06915488,  0.14279592, -0.03121651, ...,  0.06844496,\n",
       "          0.02554423, -0.03993584]])"
      ]
     },
     "execution_count": 15,
     "metadata": {},
     "output_type": "execute_result"
    }
   ],
   "source": [
    "U"
   ]
  },
  {
   "cell_type": "code",
   "execution_count": 16,
   "metadata": {},
   "outputs": [
    {
     "data": {
      "text/plain": [
       "(214, 10)"
      ]
     },
     "execution_count": 16,
     "metadata": {},
     "output_type": "execute_result"
    }
   ],
   "source": [
    "U.shape"
   ]
  },
  {
   "cell_type": "code",
   "execution_count": 17,
   "metadata": {},
   "outputs": [],
   "source": [
    "error_list = []\n",
    "for i in range(1,11):\n",
    "    re_shapen = U[:,:i].dot(S[:i,:i]).dot(V[:,:i].T)\n",
    "    error_list.append(np.linalg.norm(re_shapen-A))"
   ]
  },
  {
   "cell_type": "code",
   "execution_count": 18,
   "metadata": {},
   "outputs": [
    {
     "data": {
      "text/plain": [
       "[46.581798562440326,\n",
       " 29.423583020310808,\n",
       " 18.162278507611102,\n",
       " 13.665729849729601,\n",
       " 10.267060762605205,\n",
       " 7.303771445127914,\n",
       " 4.746116276496608,\n",
       " 1.365227384174499,\n",
       " 0.02605738726692992,\n",
       " 1.060982137449998e-11]"
      ]
     },
     "execution_count": 18,
     "metadata": {},
     "output_type": "execute_result"
    }
   ],
   "source": [
    "error_list"
   ]
  },
  {
   "cell_type": "code",
   "execution_count": 24,
   "metadata": {},
   "outputs": [
    {
     "data": {
      "text/plain": [
       "[46.581798562440326,\n",
       " 29.423583020310804,\n",
       " 18.1622785076111,\n",
       " 13.6657298497296,\n",
       " 10.267060762605201,\n",
       " 7.303771445127914,\n",
       " 4.746116276496608,\n",
       " 1.3652273841744988,\n",
       " 0.026057387266930496]"
      ]
     },
     "execution_count": 24,
     "metadata": {},
     "output_type": "execute_result"
    }
   ],
   "source": [
    "error_list_2"
   ]
  },
  {
   "cell_type": "code",
   "execution_count": 20,
   "metadata": {},
   "outputs": [],
   "source": [
    "from sklearn.decomposition import TruncatedSVD"
   ]
  },
  {
   "cell_type": "code",
   "execution_count": 21,
   "metadata": {},
   "outputs": [],
   "source": [
    "error_list_2=[]\n",
    "for i in range(1,10):\n",
    "    svd = TruncatedSVD(n_components=i)\n",
    "    pcs = svd.fit_transform(A)\n",
    "    resh = svd.inverse_transform(pcs)\n",
    "    error_list_2.append(np.linalg.norm(resh-A))"
   ]
  },
  {
   "cell_type": "code",
   "execution_count": 22,
   "metadata": {},
   "outputs": [],
   "source": [
    "x_1 = [i for i in range(1,10)]"
   ]
  },
  {
   "cell_type": "code",
   "execution_count": 25,
   "metadata": {},
   "outputs": [
    {
     "data": {
      "text/plain": [
       "[]"
      ]
     },
     "execution_count": 25,
     "metadata": {},
     "output_type": "execute_result"
    },
    {
     "data": {
      "image/png": "[encoded data removed]",
      "text/plain": [
       "<Figure size 504x504 with 1 Axes>"
      ]
     },
     "metadata": {},
     "output_type": "display_data"
    }
   ],
   "source": [
    "x=[i for i in range(1,11)]\n",
    "plt.figure(figsize=(7,7))\n",
    "plt.plot(x,error_list)\n",
    "plt.plot(x_1,error_list_2)\n",
    "plt.xlabel(\"SVD Component\")\n",
    "plt.ylabel(\"Error\")\n",
    "plt.plot()\n"
   ]
  },
  {
   "cell_type": "code",
   "execution_count": null,
   "metadata": {},
   "outputs": [],
   "source": []
  },
  {
   "cell_type": "code",
   "execution_count": null,
   "metadata": {},
   "outputs": [],
   "source": []
  },
  {
   "cell_type": "code",
   "execution_count": null,
   "metadata": {},
   "outputs": [],
   "source": []
  }
 ],
 "metadata": {
  "kernelspec": {
   "display_name": "Python 3",
   "language": "python",
   "name": "python3"
  },
  "language_info": {
   "codemirror_mode": {
    "name": "ipython",
    "version": 3
   },
   "file_extension": ".py",
   "mimetype": "text/x-python",
   "name": "python",
   "nbconvert_exporter": "python",
   "pygments_lexer": "ipython3",
   "version": "3.6.9"
  }
 },
 "nbformat": 4,
 "nbformat_minor": 2
}
